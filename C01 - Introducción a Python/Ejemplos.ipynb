{
 "cells": [
  {
   "cell_type": "markdown",
   "metadata": {},
   "source": [
    "# Ejemplos\n",
    "\n",
    "## Paréntesis de una expresión\n",
    "\n",
    "En este ejemplo vamos a resolver un problema sencillo. Considere un _string_ que representa una expresión matemática sencilla con paréntesis:\n",
    "\n",
    "```Python\n",
    "s = \"((1 + 2) * 4) - 4\n",
    "```\n",
    "\n",
    "En este problema lo que vamos a hacer es imprimir `Correcto` si los paréntesis están bien asignados; pero vamos a imprimir `Incorrecto` si el número de paréntesis no está bien asignado.\n",
    "\n",
    "¿Cómo resolveremos este problema? La idea es la siguiente: vamos a ir recordando la cantidad de paréntesis abiertos (`(`) que vamos viendo. Cuando vemos un paréntesis cerrado (`)`) vamos a descontar 1 a la cantidad de paréntesis abiertos. Si en algún momento la cantidad de paréntesis es menor que 0, es porque tenemos un error. Si al finalizar la lectura del string tenemos 0 paréntesis abiertos \"en memoria\", entonces está todo correcto, pero si nos queda una cantidad mayor que 0, es porque se nos olvidó cerrar un paréntesis."
   ]
  },
  {
   "cell_type": "code",
   "execution_count": 6,
   "metadata": {},
   "outputs": [
    {
     "name": "stdout",
     "output_type": "stream",
     "text": [
      "Correcto\n"
     ]
    }
   ],
   "source": [
    "s = \"((1 + 2) * 4) - 4\"\n",
    "\n",
    "parentesis_abiertos = 0\n",
    "correcto = True\n",
    "for c in s:\n",
    "    if c == '(':\n",
    "        parentesis_abiertos += 1\n",
    "    elif c == ')':\n",
    "        parentesis_abiertos -= 1\n",
    "    if parentesis_abiertos < 0:\n",
    "        correcto = False\n",
    "        break\n",
    "\n",
    "if parentesis_abiertos > 0:\n",
    "    correcto = False\n",
    "        \n",
    "if correcto:\n",
    "    print(\"Correcto\")\n",
    "else:\n",
    "    print(\"Incorrecto\")"
   ]
  },
  {
   "cell_type": "markdown",
   "metadata": {},
   "source": [
    "## Producto punto de dos vectores\n",
    "\n",
    "En este problema vamos a calcular el producto punto de dos vectores. Para esto vamos a pedir un _input_ $n$ que representará la dimensión de los vectores. Luego recibiremos $n$ números que representará el primer vector, y después otros $n$ números que representarán el segundo vector. Luego, implementaremos una función llamada producto punto, que recibe los dos vectores y retorna el producto punto entre ellos."
   ]
  },
  {
   "cell_type": "code",
   "execution_count": 3,
   "metadata": {},
   "outputs": [
    {
     "name": "stdout",
     "output_type": "stream",
     "text": [
      "Ingrese la dimensión de los vectores: 3\n",
      "Ingrese la coordenada 1 del primer vector: 1\n",
      "Ingrese la coordenada 2 del primer vector: 2\n",
      "Ingrese la coordenada 3 del primer vector: 3\n",
      "Ingrese la coordenada 1 del segundo vector: 4\n",
      "Ingrese la coordenada 2 del segundo vector: 5\n",
      "Ingrese la coordenada 3 del segundo vector: 6\n",
      "Vector 1:\n",
      "[1.0, 2.0, 3.0]\n",
      "Vector 2:\n",
      "[4.0, 5.0, 6.0]\n",
      "El valor del producto punto es 32.0\n"
     ]
    }
   ],
   "source": [
    "# Función que computa el producto punto\n",
    "def producto_punto(v1, v2):\n",
    "    valor_producto_punto = 0\n",
    "    for i in range(n):\n",
    "        valor_producto_punto += a[i]*b[i]\n",
    "    return valor_producto_punto\n",
    "\n",
    "n = int(input(\"Ingrese la dimensión de los vectores: \"))\n",
    "a = []\n",
    "b = []\n",
    "\n",
    "# Elementos del primer vector\n",
    "for i in range(n):\n",
    "    elemento = input(f\"Ingrese la coordenada {i + 1} del primer vector: \")\n",
    "    a.append(float(elemento))\n",
    "\n",
    "# Elementos del segundo vector\n",
    "for i in range(n):\n",
    "    elemento = input(f\"Ingrese la coordenada {i + 1} del segundo vector: \")\n",
    "    b.append(float(elemento))\n",
    "    \n",
    "print(\"Vector 1:\")\n",
    "print(a)\n",
    "\n",
    "print(\"Vector 2:\")\n",
    "print(b)\n",
    "\n",
    "# Aquí utilizamos la función\n",
    "valor = producto_punto(a, b)\n",
    "\n",
    "print(f\"El valor del producto punto es {valor}\")"
   ]
  },
  {
   "cell_type": "code",
   "execution_count": null,
   "metadata": {},
   "outputs": [],
   "source": []
  }
 ],
 "metadata": {
  "kernelspec": {
   "display_name": "Python 3",
   "language": "python",
   "name": "python3"
  },
  "language_info": {
   "codemirror_mode": {
    "name": "ipython",
    "version": 3
   },
   "file_extension": ".py",
   "mimetype": "text/x-python",
   "name": "python",
   "nbconvert_exporter": "python",
   "pygments_lexer": "ipython3",
   "version": "3.8.6"
  }
 },
 "nbformat": 4,
 "nbformat_minor": 4
}
