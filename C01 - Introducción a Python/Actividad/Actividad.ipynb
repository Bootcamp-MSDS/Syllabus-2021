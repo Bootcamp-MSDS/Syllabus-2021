{
 "cells": [
  {
   "cell_type": "markdown",
   "metadata": {},
   "source": [
    "# Actividad\n",
    "\n",
    "## Promedios del curso\n",
    "\n",
    "La idea de esta actividad es recibir las notas de un curso de varios alumnos de un curso para luego entregar el promedio de cada uno de ellos. En este curso hay tres pruebas $P_1$, $P_2$ y $P_3$ cuyo promedio vale un $70\\%$ del curso. Además, el examen vale un $30\\%$ del curso. Si la nota del examen es mayor o igual a $4.0$, entonces el promedio es el esperado. Si la nota del examen es menor que $4.0$, entonces el promedio es $min(3.9, \\text{Promedio del curso})$. Asume que las notas van del 1.0 al 7.0. Finalmente, se piden algunas estadísticas sobre el curso:\n",
    "\n",
    "- Entregar el promedio más alto y el más bajo.\n",
    "- Entregar el promedio del curso.\n",
    "- Entregar el número de aprobados y el número de reprobados.\n",
    "\n",
    "Para esto, debes preguntar por el número $n$ de alumnos a ingresar. Luego debes preguntar $n$ veces por:\n",
    "\n",
    "- El nombre del alumno.\n",
    "- Las notas del alumno. Las notas serán 4 números separados por espacios, que corresponden a las 3 pruebas en orden y al examen.\n",
    "\n",
    "Y luego entregar cada nombre de alumno, junto a su promedio. Luego debes entregar las otras estadísticas solicitadas."
   ]
  },
  {
   "cell_type": "code",
   "execution_count": 7,
   "metadata": {},
   "outputs": [
    {
     "name": "stdout",
     "output_type": "stream",
     "text": [
      "Ingrese el número de alumnos: 2\n",
      "Ingrese el nombre del alumno: a1\n",
      "Ingrese las notas del alumno separadas por espacio: 1.0 1.0 1.0 1.0\n",
      "Ingrese el nombre del alumno: a2\n",
      "Ingrese las notas del alumno separadas por espacio: 5.0 5.0 5.0 5.0\n",
      "El alumno a1 tiene promedio 1.0\n",
      "El alumno a2 tiene promedio 5.0\n",
      "##########\n",
      "El promedio más alto es 5.0\n",
      "El promedio más alto es 1.0\n",
      "El promedio del curso es 3.0\n",
      "Los aprobados son 1 y los reprobados 1\n"
     ]
    }
   ],
   "source": [
    "n = int(input(\"Ingrese el número de alumnos: \"))\n",
    "\n",
    "alumnos = []\n",
    "promedios = []\n",
    "aprobados = 0\n",
    "reprobados = 0\n",
    "\n",
    "for i in range(n):\n",
    "    nombre = input(\"Ingrese el nombre del alumno: \")\n",
    "    notas = input(\"Ingrese las notas del alumno separadas por espacio: \")\n",
    "    notas_lista = notas.split(\" \")\n",
    "    \n",
    "    notas = []\n",
    "    for nota in notas_lista:\n",
    "        notas.append(float(nota))\n",
    "        \n",
    "    promedio_pruebas = (notas[0] + notas[1] + notas[2])/3\n",
    "    if notas[3] >= 4:\n",
    "        promedio_final = 0.7*promedio_pruebas + 0.3*notas[3]\n",
    "    else:\n",
    "        promedio_final = min(3.9, 0.7*promedio_pruebas + 0.3*notas[3])\n",
    "        \n",
    "    if promedio_final >= 4.0:\n",
    "        aprobados += 1\n",
    "    else:\n",
    "        reprobados += 1\n",
    "        \n",
    "    alumnos.append(nombre)\n",
    "    promedios.append(promedio_final)\n",
    "    \n",
    "for i in range(n):\n",
    "    print(f\"El alumno {alumnos[i]} tiene promedio {promedios[i]}\")\n",
    "\n",
    "print(\"##########\")\n",
    "print(f\"El promedio más alto es {max(promedios)}\")\n",
    "print(f\"El promedio más bajo es {min(promedios)}\")\n",
    "\n",
    "promedio_curso = 0\n",
    "for promedio in promedios:\n",
    "    promedio_curso += promedio\n",
    "    \n",
    "promedio_curso = promedio_curso / n\n",
    "print(f\"El promedio del curso es {promedio_curso}\")\n",
    "\n",
    "print(f\"Los aprobados son {aprobados} y los reprobados {reprobados}\")"
   ]
  },
  {
   "cell_type": "code",
   "execution_count": null,
   "metadata": {},
   "outputs": [],
   "source": []
  }
 ],
 "metadata": {
  "kernelspec": {
   "display_name": "Python 3",
   "language": "python",
   "name": "python3"
  },
  "language_info": {
   "codemirror_mode": {
    "name": "ipython",
    "version": 3
   },
   "file_extension": ".py",
   "mimetype": "text/x-python",
   "name": "python",
   "nbconvert_exporter": "python",
   "pygments_lexer": "ipython3",
   "version": "3.8.6"
  }
 },
 "nbformat": 4,
 "nbformat_minor": 4
}
