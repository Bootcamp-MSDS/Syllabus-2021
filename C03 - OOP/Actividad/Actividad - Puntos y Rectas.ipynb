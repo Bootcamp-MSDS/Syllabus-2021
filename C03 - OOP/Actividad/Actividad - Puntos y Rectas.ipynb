{
 "cells": [
  {
   "cell_type": "markdown",
   "metadata": {},
   "source": [
    "## Creando una clase Line\n",
    "\n",
    "En este notebook hay una clase llamada `Point` que representaba un punto en el espacio. Ahora crearemos una clase `Line` que representa una recta en el espacio. El constructor debe recibir como parámetros dos puntos `p1` y `p2` y debe generar como atributos los valores `m` y `n` que representarán la pendiente y el coeficiente de posición respectivamente. Además debes implementar un método llamado `evaluate` que reciba un valor de `x` y te retorne el respectivo valor de `y` en la recta."
   ]
  },
  {
   "cell_type": "code",
   "execution_count": null,
   "metadata": {},
   "outputs": [],
   "source": [
    "# La clase Point que puedes usar de base\n",
    "class Point:\n",
    "    def __init__(self, x, y):\n",
    "        self.x = x\n",
    "        self.y = y\n",
    "    \n",
    "    def move(self, delta_x, delta_y):\n",
    "        self.x = self.x + delta_x\n",
    "        self.y = self.y + delta_y\n",
    "    \n",
    "    def distance_to_0(self):\n",
    "        distance = (self.x**2 + self.y**2)**(1/2)\n",
    "        return distance\n",
    "        \n",
    "    def __str__(self):\n",
    "        return f'Punto de coordenadas ({self.x}, {self.y})'\n",
    "    \n",
    "# El template de la clase Line\n",
    "class Line:\n",
    "    pass\n"
   ]
  }
 ],
 "metadata": {
  "kernelspec": {
   "display_name": "Python 3",
   "language": "python",
   "name": "python3"
  },
  "language_info": {
   "codemirror_mode": {
    "name": "ipython",
    "version": 3
   },
   "file_extension": ".py",
   "mimetype": "text/x-python",
   "name": "python",
   "nbconvert_exporter": "python",
   "pygments_lexer": "ipython3",
   "version": "3.8.6"
  }
 },
 "nbformat": 4,
 "nbformat_minor": 4
}
