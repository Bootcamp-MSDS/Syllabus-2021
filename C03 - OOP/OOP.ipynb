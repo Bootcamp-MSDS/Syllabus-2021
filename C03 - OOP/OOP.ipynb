{
 "cells": [
  {
   "cell_type": "markdown",
   "metadata": {},
   "source": [
    "# Clases\n",
    "\n",
    "Cuando trabajamos con clases, generalmente es porque queremos modelar el comportamiento de un objeto y su\n",
    "interacción con otros objetos. Pensemos por ejemplo en una persona, que tiene ciertas características como rut, nombre, apellido, edad, entre otras y que puede realizar ciertas acciones como caminar, hablar, etc...Todo esto lo podemos modelar con una clase. De la misma manera, podemos pensar en un auto que tiene marca, modelo y color, y que puede realizar acciones como andar o tocar la bocina, lo que también se puede modelar como una clase. Entonces ahora, además de modelar cada objecto por separado, podemos modelar la interacción entre ambos, por ejemplo que una persona puede comprar una auto.\n",
    "\n",
    "En este módulo, trabajaremos con el ejemplo de Personas y Autos para ejemplificar cómo crear y usar una clase en python. "
   ]
  },
  {
   "cell_type": "markdown",
   "metadata": {},
   "source": [
    "## 1. Creando una clase\n",
    "\n",
    "Para crear una clase, debemos hacer dos cosas:\n",
    "\n",
    "- Declarar la clase\n",
    "- Asignar atributos en el constructor\n",
    "\n",
    "El primer paso para crear una clase, es **declararla** utilizando la palabra reservada ``class`` y luego asignarle un nombre:\n",
    "\n",
    "```py\n",
    "class <Nombre de la clase>:\n",
    "    # <Aqui va el contenido de la clase , indentado>\n",
    "```\n",
    "\n",
    "Para nuestros ejemplos, la declaración de la clase Persona se vería así:"
   ]
  },
  {
   "cell_type": "code",
   "execution_count": 5,
   "metadata": {},
   "outputs": [],
   "source": [
    "class Persona:\n",
    "    pass"
   ]
  },
  {
   "cell_type": "markdown",
   "metadata": {},
   "source": [
    "Y la de clase Auto así:"
   ]
  },
  {
   "cell_type": "code",
   "execution_count": 4,
   "metadata": {},
   "outputs": [],
   "source": [
    "class Auto:\n",
    "    pass"
   ]
  },
  {
   "cell_type": "markdown",
   "metadata": {},
   "source": [
    "**Observación:** Podemos entender las líneas de arriba como que estamos defniendo dos nuevos tipo de dato:\n",
    "``Persona`` y ``Auto``.\n",
    "\n",
    "Antes de seguir con el segundo paso, es importante entender el concepto de **atributo**. Cada clase debe tener ciertas características que definen su comportamiento y que la distinguen de otras clases, estas características son las que nosotros llamaremos atributos. Como mencionamos anteriormente, consideraremos que las personas tienen rut, nombre, apellido, edad y autos y que los autos tienen marca, modelo y color. Hay que tener en cuenta que, dependiendo de la situación que queramos modelar es que podemos complejizar la clase y agregarle los atributos que consideremos conveniente.\n",
    "\n",
    "Ahora, hablemos del **constructor**. El constructor de una clase es un método que se ve de la siguiente forma:\n",
    "\n",
    "```py\n",
    "def __init__(self , parametro_1 ,... , parametro_n ):\n",
    "    self.atributo_1 = parametro_1\n",
    "    self.atributo_2 = parametro_2\n",
    "    # ...\n",
    "    self.atributo_n = parametro_n\n",
    "```\n",
    "\n",
    "Entonces notemos lo siguiente:\n",
    "- Al ser un método (recordemos que los métodos son simplemente funciones), utiliza la palabra reservada ``def``, a continuación va su nombre: ``__init__`` (no te asustes porque su nombre comienza y termina con doble guión, es solo su nombre) y finalmente, entre paréntesis y separados por coma van los parámetros que recibe.\n",
    "- El primer parámetro que recibe siempre es ``self``.\n",
    "- Los demás parámetros que recibe (parametro_1 ,... , parametro_n) son las variables con las que inicializaremos cada nuevo objeto (esto quedará un poco más claro cuando expliquemos la instanciación de objetos).\n",
    "- Los atributos de la clase se definen de la siguiente manera: ``self.nombre_atributo = valor``. Por ejemplo ``self.nombre = \"Juan\"``.\n",
    "- El valor de un atributo puede ser definido por uno, por ejemplo ``self.nombre = \"Juan\"`` o puede ser asignado según un parámetro, por ejemplo: ``self.nombre = parametro_1``.\n",
    "\n",
    "Con esto, el siguiente paso para crear una clase es definir los atributos de la clase en el constructor de la clase:\n",
    "\n",
    "```py\n",
    "class <Nombre de la Clase>:\n",
    "\n",
    "    def __init__(self , parametro_1 ,... , parametro_n):\n",
    "        self.atributo_1 = parametro_1\n",
    "        self.atributo_2 = parametro_2\n",
    "        # ...\n",
    "        self.atributo_n = parametro_n\n",
    "```\n",
    "\n",
    "Lo que en nuestro ejemplo de personas y autos quedaría así:"
   ]
  },
  {
   "cell_type": "code",
   "execution_count": 8,
   "metadata": {},
   "outputs": [],
   "source": [
    "class Persona :\n",
    "    def __init__(self , rut , nombre , apellido , edad_ingresada):\n",
    "        self.rut = rut\n",
    "        self.nombre = nombre\n",
    "        self.apellido = apellido\n",
    "        self.edad = edad_ingresada\n",
    "        self.autos = []\n",
    "\n",
    "class Auto :\n",
    "    def __init__(self , marca , modelo , color):\n",
    "        self.marca = marca\n",
    "        self.modelo = modelo\n",
    "        self.color = color\n",
    "        self.dueño = None"
   ]
  },
  {
   "cell_type": "markdown",
   "metadata": {},
   "source": [
    "De aquí es importante mencionar lo siguiente:\n",
    "\n",
    "- El nombre de un atributo no necesariamente tiene que tener el mismo nombre del parámetro asignado. Por ejemplo, en la clase ``Persona``, el atributo es ``edad``, pero el parámetro es ``edad_ingresada``.\n",
    "- Un atributo no necesariamente tiene que tomar el valor entregado por un parámetro. Por ejemplo, en la clase ``Persona``, tenemos el atributo ``autos`` que no toma el valor de ninguno de los parámetros entregados, pero nosotros le asignamos como valor inicial una lista vacía. Esto quiere decir que, inicialmente, todas las personas van a iniciar con ningún auto (o dicho de otra manera, nadie tiene ningún auto al comienzo), a diferencia de los otros atributos que comenzarán inicializados con los valores entregados por los parámetros. Esto también ocurre con el atributo ``dueño`` de la clase ``Auto``, que no toma el valor de ningún parámetro y comienza inicializado como ``None``, lo que quiere decir que, inicialmente, los autos instanciados no tendrán un dueñno asociado.\n",
    "- Un parámetro no necesariamente tiene que ser asignado a algún atributo (aunque no es lo más común).\n",
    "\n",
    "\n"
   ]
  },
  {
   "cell_type": "markdown",
   "metadata": {},
   "source": [
    "## 2. Agregando métodos\n",
    "\n",
    "Al crear una clase, deberíamos tener por lo menos el método del constructor, que sería el encargado de inicializar\n",
    "los atributos una vez que se instancia el objeto. Pero la parte interesante, es que podemos agregarle más métodos a\n",
    "nuestra clase, dependiendo del comportamiento que queramos modelar. Para esto, agregamos al nivel de indentación\n",
    "del constructor los nuevos métodos:\n",
    "\n",
    "```py\n",
    "class <Nombre de la Clase >:\n",
    "\n",
    "    def __init__(self , parametro_1 ,... , parametro_n):\n",
    "        self.atributo_1 = parametro_1\n",
    "        # ...\n",
    "        self.atributo_n = parametro_n\n",
    "    \n",
    "    def metodo_1(self , parametro_1 ,... , parametro_n):\n",
    "        # Aquí va el contenido del método 1\n",
    "\n",
    "    def metodo_2(self , parametro_1 ,... , parametro_n):\n",
    "        # Aquí va el contenido del método 2\n",
    "```"
   ]
  },
  {
   "cell_type": "markdown",
   "metadata": {},
   "source": [
    "Es muy importante notar que, cada método definido en una clase debe recibir un primer parámetro que puede\n",
    "llevar cualquier nombre, pero es una buena práctica llamarlo ``self``. Este parámetro nos sirve para hacer referencia\n",
    "al objeto mismo y así acceder a sus atributos y métodos. \n",
    "\n",
    "Continuaremos con el ejemplo de las personas y autos agregando algunos métodos:"
   ]
  },
  {
   "cell_type": "code",
   "execution_count": 41,
   "metadata": {},
   "outputs": [],
   "source": [
    "# Agregamos a la clase Persona los métodos cumpleaños, saludar y comprar_auto\n",
    "class Persona :\n",
    "    \n",
    "    def __init__(self , rut , nombre , apellido , edad_ingresada):\n",
    "        self.rut = rut\n",
    "        self.nombre = nombre\n",
    "        self.apellido = apellido\n",
    "        self.edad = edad_ingresada\n",
    "        self.autos = []\n",
    "\n",
    "    def cumpleaños(self):\n",
    "        # Incrementamos la edad de la persona en 1. Notemos que este método no recibe parámetros aparte de self\n",
    "        self.edad += 1\n",
    "\n",
    "    def saludar(self):\n",
    "        # Imprimimos un saludo utilizando los datos de la persona\n",
    "        print('Hola! mi nombre es {} {}'.format(self.nombre, self.apellido))\n",
    "\n",
    "    def comprar_auto(self, auto):\n",
    "        # Agregamos un objeto de tipo/clase Auto a la lista de autos de la persona\n",
    "        self.autos.append(auto)\n",
    "        # Modificamos al dueño del auto. Asumimos que el parámetro auto será de clase Auto, por lo que tendrá el atributo dueño\n",
    "        auto.dueño = self"
   ]
  },
  {
   "cell_type": "code",
   "execution_count": 42,
   "metadata": {},
   "outputs": [],
   "source": [
    "# Agregamos a la clase Auto el método andar\n",
    "class Auto :\n",
    "    def __init__(self, marca, modelo, color):\n",
    "        self.marca = marca\n",
    "        self.modelo = modelo\n",
    "        self.color = color\n",
    "        self.dueño = None\n",
    "\n",
    "    def andar(self):\n",
    "        # Imprimimos algo que nos indique que el auto está en movimiento\n",
    "        print('Me estoy moviendo ')"
   ]
  },
  {
   "cell_type": "markdown",
   "metadata": {},
   "source": [
    "## 3. Cómo utilizar una clase\n",
    "\n",
    "Para poder utilizar de manera correcta las clases, necesitamos primero entender la diferencia entre su **definición** y\n",
    "su **instanciación**. Hasta ahora, lo único que hemos hecho es definir clases (Personas y Autos). Pero ahora necesitamos los objetos particulares que nos permitirán modelar situaciones, es decir, necesitamos una persona concreta y un auto en concreto.\n",
    "\n",
    "De hecho, observemos que sucede si es que intentamos acceder a un método o a un atributo de las clases que definimos:"
   ]
  },
  {
   "cell_type": "code",
   "execution_count": 43,
   "metadata": {},
   "outputs": [
    {
     "ename": "TypeError",
     "evalue": "andar() missing 1 required positional argument: 'self'",
     "output_type": "error",
     "traceback": [
      "\u001b[1;31m---------------------------------------------------------------------------\u001b[0m",
      "\u001b[1;31mTypeError\u001b[0m                                 Traceback (most recent call last)",
      "\u001b[1;32m<ipython-input-43-4ee5082135f5>\u001b[0m in \u001b[0;36m<module>\u001b[1;34m\u001b[0m\n\u001b[1;32m----> 1\u001b[1;33m \u001b[0mAuto\u001b[0m\u001b[1;33m.\u001b[0m\u001b[0mandar\u001b[0m\u001b[1;33m(\u001b[0m\u001b[1;33m)\u001b[0m\u001b[1;33m\u001b[0m\u001b[1;33m\u001b[0m\u001b[0m\n\u001b[0m",
      "\u001b[1;31mTypeError\u001b[0m: andar() missing 1 required positional argument: 'self'"
     ]
    }
   ],
   "source": [
    "Auto.andar()"
   ]
  },
  {
   "cell_type": "code",
   "execution_count": 44,
   "metadata": {},
   "outputs": [
    {
     "ename": "AttributeError",
     "evalue": "type object 'Persona' has no attribute 'nombre'",
     "output_type": "error",
     "traceback": [
      "\u001b[1;31m---------------------------------------------------------------------------\u001b[0m",
      "\u001b[1;31mAttributeError\u001b[0m                            Traceback (most recent call last)",
      "\u001b[1;32m<ipython-input-44-62b8eff0135e>\u001b[0m in \u001b[0;36m<module>\u001b[1;34m\u001b[0m\n\u001b[1;32m----> 1\u001b[1;33m \u001b[0mPersona\u001b[0m\u001b[1;33m.\u001b[0m\u001b[0mnombre\u001b[0m\u001b[1;33m\u001b[0m\u001b[1;33m\u001b[0m\u001b[0m\n\u001b[0m",
      "\u001b[1;31mAttributeError\u001b[0m: type object 'Persona' has no attribute 'nombre'"
     ]
    }
   ],
   "source": [
    "Persona.nombre"
   ]
  },
  {
   "cell_type": "markdown",
   "metadata": {},
   "source": [
    "Esto sucede porque no hemos instanciado las clases. \n",
    "\n",
    "Para instanciar un objeto de cierta clase, hacemos lo siguiente:\n",
    "\n",
    "```py\n",
    "mi_instancia = Nombre_Clase(parametro_1, ... , parametro_n)\n",
    "```\n",
    "\n",
    "Notemos que al instanciar, solo entregamos los parámetros que no son ``self``. Continuando con nuestro ejemplo, instanciamos algunas personas:"
   ]
  },
  {
   "cell_type": "code",
   "execution_count": 45,
   "metadata": {},
   "outputs": [],
   "source": [
    "p1 = Persona('1.234.567-8', 'Juan', 'Pérez', 30)\n",
    "p2 = Persona('2.345.678-9', 'María', 'Saldías', 23)\n",
    "p3 = Persona('3.456.789-k', 'Marcelo', 'Riveros', 15)"
   ]
  },
  {
   "cell_type": "markdown",
   "metadata": {},
   "source": [
    "Instanciamos algunos autos:"
   ]
  },
  {
   "cell_type": "code",
   "execution_count": 46,
   "metadata": {},
   "outputs": [],
   "source": [
    "a1 = Auto('Hyundai', 'i30', 'Blanco')\n",
    "a2 = Auto('Susuki', 'Vitara', 'Rojo')"
   ]
  },
  {
   "cell_type": "markdown",
   "metadata": {},
   "source": [
    "Ahora podemos acceder a los atributos de estas clases de la siguiente forma:\n",
    "\n",
    "```py\n",
    "nombre_instancia.nombre_atributo\n",
    "```"
   ]
  },
  {
   "cell_type": "code",
   "execution_count": 47,
   "metadata": {},
   "outputs": [
    {
     "name": "stdout",
     "output_type": "stream",
     "text": [
      "Juan\n",
      "María\n",
      "Marcelo\n",
      "30\n",
      "2.345.678-9\n"
     ]
    }
   ],
   "source": [
    "print(p1.nombre)\n",
    "print(p2.nombre)\n",
    "print(p3.nombre)\n",
    "print(p1.edad)\n",
    "print(p2.rut)"
   ]
  },
  {
   "cell_type": "markdown",
   "metadata": {},
   "source": [
    "Veamos los tipos de estas instancias:"
   ]
  },
  {
   "cell_type": "code",
   "execution_count": 48,
   "metadata": {},
   "outputs": [
    {
     "name": "stdout",
     "output_type": "stream",
     "text": [
      "<class '__main__.Persona'>\n",
      "<class '__main__.Persona'>\n",
      "<class '__main__.Auto'>\n",
      "<class '__main__.Auto'>\n"
     ]
    }
   ],
   "source": [
    "print(type(p1))\n",
    "print(type(p2))\n",
    "print(type(a1))\n",
    "print(type(a2))"
   ]
  },
  {
   "cell_type": "markdown",
   "metadata": {},
   "source": [
    "Para acceder a los métodos, podemos hacer lo siguiente:\n",
    "\n",
    "```py\n",
    "nombre_instancia.nombre_método(parámetros)\n",
    "```\n",
    "\n",
    "Notemos que solo debemos entregar los parámetros que no son ``self``. "
   ]
  },
  {
   "cell_type": "code",
   "execution_count": 49,
   "metadata": {},
   "outputs": [
    {
     "name": "stdout",
     "output_type": "stream",
     "text": [
      "Hola! mi nombre es Juan Pérez\n",
      "Hola! mi nombre es Marcelo Riveros\n",
      "Edad antes del cumpleaños: 23\n",
      "Edad post-cumpleaños:  24\n",
      "Autos de Juan antes de comprar:  []\n",
      "Autos de  Juan post compra:  [<__main__.Auto object at 0x05B89430>]\n",
      "El dueño del auto a1 es:  <__main__.Persona object at 0x05B89A00>\n",
      "El nombre del dueño del auto a1 es:  Juan\n",
      "Me estoy moviendo \n"
     ]
    }
   ],
   "source": [
    "# Saludamos con algunas personas\n",
    "p1.saludar()\n",
    "p3.saludar()\n",
    "\n",
    "# Vemos el funcionamiento de cumpleaños\n",
    "print('Edad antes del cumpleaños:', p2.edad)\n",
    "p2.cumpleaños()\n",
    "print('Edad post-cumpleaños: ', p2. edad )\n",
    "\n",
    "# Vemos el funcionamiento de la compra de un auto\n",
    "print('Autos de', p1.nombre, 'antes de comprar: ', p1.autos)\n",
    "p1.comprar_auto(a1)\n",
    "print('Autos de ', p1.nombre, 'post compra: ', p1.autos)\n",
    "print('El dueño del auto a1 es: ', a1.dueño)\n",
    "print('El nombre del dueño del auto a1 es: ', a1.dueño.nombre)\n",
    "\n",
    "# Vemos el funcionamiento de andar\n",
    "a1.andar()"
   ]
  },
  {
   "cell_type": "markdown",
   "metadata": {},
   "source": [
    "Considera que existen buenas prácticas relacionadas al acceso de métodos y atributos de las diferentes clases. Esto tiene relación con que los atributos y métodos pueden ser públicos o privados, pero no deberías preocuparte por ahora, pues es materia de cursos más avanzados, aunque es bueno que lo tengas en cuenta."
   ]
  },
  {
   "cell_type": "markdown",
   "metadata": {},
   "source": [
    "## 4. Cómo se imprime una clase\n",
    "\n",
    "\n",
    "Debes haberte fijado en que se ve un poco extraña y poco intuitiva la forma en que se imprimió la lista de autos de Juan que contenía un objeto de clase ``Auto`` o cuando imprimimos quién era el dueño del auto. Esto es porque no hemos definido una forma en que queremos que se represente o imprima dicho objeto, entonces se muestra el espacio de memoria en que está ubicada la\n",
    "instancia:\n",
    "\n",
    "```\n",
    "[<__main__.Auto object at 0x05B89430>]\n",
    "<__main__.Persona object at 0x05B89A00>\n",
    "```\n",
    "\n",
    "Para poder imprimir un objeto de una manera más intuitiva y legible, podemos utilizar los métodos ``__str__`` o ``__repr__``. Para explicar estos métodos tomemos en consideración el siguiente ejemplo simplicado de Personas:"
   ]
  },
  {
   "cell_type": "code",
   "execution_count": 51,
   "metadata": {},
   "outputs": [],
   "source": [
    "class Persona:\n",
    "    def __init__ (self, nombre, apellido, edad):\n",
    "        self.nombre = nombre\n",
    "        self.apellido = apellido\n",
    "        self.edad = edad"
   ]
  },
  {
   "cell_type": "markdown",
   "metadata": {},
   "source": [
    "### Método ``__str__``\n",
    "\n",
    "Agregamos a esta clase el método ``__str__``, que recibe como parámetro ``self`` y retorna un _string_ con lo que queremos que represente al objeto, en el caso de Personas, retornaremos su nombre y apellido:"
   ]
  },
  {
   "cell_type": "code",
   "execution_count": 54,
   "metadata": {},
   "outputs": [],
   "source": [
    "class Persona:\n",
    "    def __init__ (self, nombre, apellido, edad):\n",
    "        self.nombre = nombre\n",
    "        self.apellido = apellido\n",
    "        self.edad = edad\n",
    "        \n",
    "    def __str__(self):\n",
    "        return self.nombre + ' ' + self.apellido"
   ]
  },
  {
   "cell_type": "markdown",
   "metadata": {},
   "source": [
    "Ahora instanciamos a un par de personas y vemos qué ocurre:"
   ]
  },
  {
   "cell_type": "code",
   "execution_count": 55,
   "metadata": {},
   "outputs": [
    {
     "name": "stdout",
     "output_type": "stream",
     "text": [
      "Juan Pérez\n",
      "María Saldías\n"
     ]
    }
   ],
   "source": [
    "persona1 = Persona('Juan', 'Pérez', 25)\n",
    "persona2 = Persona('María', 'Saldías', 30)\n",
    "\n",
    "print(persona1)\n",
    "print(persona2)"
   ]
  },
  {
   "cell_type": "markdown",
   "metadata": {},
   "source": [
    "Ahora si están representados de una manera legible. Pero vemos qué ocurre cuando estos objetos están en una lista:"
   ]
  },
  {
   "cell_type": "code",
   "execution_count": 58,
   "metadata": {},
   "outputs": [
    {
     "name": "stdout",
     "output_type": "stream",
     "text": [
      "[<__main__.Persona object at 0x05C4CAC0>, <__main__.Persona object at 0x05B89E20>]\n"
     ]
    }
   ],
   "source": [
    "lista_personas = [persona1, persona2]\n",
    "print(lista_personas)"
   ]
  },
  {
   "cell_type": "markdown",
   "metadata": {},
   "source": [
    "Vemos que cuando las instancias están en una lista, no se representan como nosotros esperábamos."
   ]
  },
  {
   "cell_type": "markdown",
   "metadata": {},
   "source": [
    "### Método ``__repr__``\n",
    "\n",
    "En vez de agregamos a la clase el método ``__str__``,  agregamos el método ``__repr__``, que recibe como parámetro ``self`` y retorna un _string_ con lo que queremos que represente al objeto, al igual que en el caso anterior, queremos que para Personas se retorne su nombre y apellido:"
   ]
  },
  {
   "cell_type": "code",
   "execution_count": 59,
   "metadata": {},
   "outputs": [],
   "source": [
    "class Persona:\n",
    "    def __init__ (self, nombre, apellido, edad):\n",
    "        self.nombre = nombre\n",
    "        self.apellido = apellido\n",
    "        self.edad = edad\n",
    "        \n",
    "    def __repr__(self):\n",
    "        return self.nombre + ' ' + self.apellido"
   ]
  },
  {
   "cell_type": "code",
   "execution_count": 62,
   "metadata": {},
   "outputs": [
    {
     "name": "stdout",
     "output_type": "stream",
     "text": [
      "Juan Pérez\n",
      "María Saldías\n",
      "[Juan Pérez, María Saldías]\n"
     ]
    }
   ],
   "source": [
    "persona1 = Persona('Juan', 'Pérez', 25)\n",
    "persona2 = Persona('María', 'Saldías', 30)\n",
    "\n",
    "print(persona1)\n",
    "print(persona2)\n",
    "\n",
    "lista_personas = [persona1, persona2]\n",
    "print(lista_personas)"
   ]
  },
  {
   "cell_type": "markdown",
   "metadata": {},
   "source": [
    "Ahora si tenemos una forma e representar los objetos tanto si están en una lista como si no. Con respecto a la diferencia entre ambos métodos, según la documentación de python,  ``__str__`` se usa para encontrar la representación en forma de string que es \"informal\" (legible), mientras  que ``__repr__`` para la representación en forma de string que es \"oficial\"."
   ]
  },
  {
   "cell_type": "markdown",
   "metadata": {},
   "source": [
    "## 5. Atributos de instancia y atributos de clase\n",
    "\n",
    "Hasta ahora, solo hemos trabajado con atributos de instancia, pues estos se encontraban dentro del constructor de la instancia. Pero también existen los atributos de clase, que son compartidos por todas las instancias de esa clase. Sigamos el siguiente ejemplo:"
   ]
  },
  {
   "cell_type": "code",
   "execution_count": 89,
   "metadata": {},
   "outputs": [],
   "source": [
    "class A :\n",
    "    def __init__ (self):\n",
    "        self.atributo = 'valor'"
   ]
  },
  {
   "cell_type": "markdown",
   "metadata": {},
   "source": [
    "Instanciamos:"
   ]
  },
  {
   "cell_type": "code",
   "execution_count": 90,
   "metadata": {},
   "outputs": [],
   "source": [
    "a1 = A()\n",
    "a2 = A()\n",
    "a3 = A()"
   ]
  },
  {
   "cell_type": "markdown",
   "metadata": {},
   "source": [
    "Imprimimos los valores de ``atributo`` para las diferentes instancias:"
   ]
  },
  {
   "cell_type": "code",
   "execution_count": 91,
   "metadata": {},
   "outputs": [
    {
     "name": "stdout",
     "output_type": "stream",
     "text": [
      "valor\n",
      "valor\n",
      "valor\n"
     ]
    }
   ],
   "source": [
    "print(a1.atributo)\n",
    "print(a2.atributo)\n",
    "print(a3.atributo)"
   ]
  },
  {
   "cell_type": "markdown",
   "metadata": {},
   "source": [
    "Ahora, cambiamos el valor de ``atributo`` solo para la primera instancia:"
   ]
  },
  {
   "cell_type": "code",
   "execution_count": 92,
   "metadata": {},
   "outputs": [],
   "source": [
    "a1.atributo = 'nuevo_valor'"
   ]
  },
  {
   "cell_type": "code",
   "execution_count": 93,
   "metadata": {},
   "outputs": [
    {
     "name": "stdout",
     "output_type": "stream",
     "text": [
      "nuevo_valor\n",
      "valor\n",
      "valor\n"
     ]
    }
   ],
   "source": [
    "print(a1.atributo)\n",
    "print(a2.atributo)\n",
    "print(a3.atributo)"
   ]
  },
  {
   "cell_type": "markdown",
   "metadata": {},
   "source": [
    "Como hemos modificado el valor de un atributo en una instancia, solo se modifica para esa intancia y no para las\n",
    "demás."
   ]
  },
  {
   "cell_type": "markdown",
   "metadata": {},
   "source": [
    "Ahora, podríamos pensar que un atributo que no está definido con ``self``, podría ser compartido por todos los objetos de la clase:"
   ]
  },
  {
   "cell_type": "code",
   "execution_count": 94,
   "metadata": {},
   "outputs": [
    {
     "ename": "AttributeError",
     "evalue": "'B' object has no attribute 'atributo'",
     "output_type": "error",
     "traceback": [
      "\u001b[1;31m---------------------------------------------------------------------------\u001b[0m",
      "\u001b[1;31mAttributeError\u001b[0m                            Traceback (most recent call last)",
      "\u001b[1;32m<ipython-input-94-c95de673d0b5>\u001b[0m in \u001b[0;36m<module>\u001b[1;34m\u001b[0m\n\u001b[0;32m      5\u001b[0m \u001b[0mb1\u001b[0m \u001b[1;33m=\u001b[0m \u001b[0mB\u001b[0m\u001b[1;33m(\u001b[0m\u001b[1;33m)\u001b[0m\u001b[1;33m\u001b[0m\u001b[1;33m\u001b[0m\u001b[0m\n\u001b[0;32m      6\u001b[0m \u001b[1;33m\u001b[0m\u001b[0m\n\u001b[1;32m----> 7\u001b[1;33m \u001b[0mprint\u001b[0m\u001b[1;33m(\u001b[0m\u001b[0mb1\u001b[0m\u001b[1;33m.\u001b[0m\u001b[0matributo\u001b[0m\u001b[1;33m)\u001b[0m\u001b[1;33m\u001b[0m\u001b[1;33m\u001b[0m\u001b[0m\n\u001b[0m",
      "\u001b[1;31mAttributeError\u001b[0m: 'B' object has no attribute 'atributo'"
     ]
    }
   ],
   "source": [
    "class B :\n",
    "    def __init__ (self):\n",
    "        atributo = 'valor'\n",
    "    \n",
    "b1 = B()\n",
    "\n",
    "print(b1.atributo)"
   ]
  },
  {
   "cell_type": "markdown",
   "metadata": {},
   "source": [
    "Pero vemos que el programa se cae (así que recuerda siempre definir tus atributos con ``self``). Entonces ¿cómo podemos definir un atributo que sea **de la clase**?. Lo podemos hacer, definiendo el atributo luego de la declaración de la clase y antes del constructor:"
   ]
  },
  {
   "cell_type": "code",
   "execution_count": 85,
   "metadata": {},
   "outputs": [
    {
     "name": "stdout",
     "output_type": "stream",
     "text": [
      "atributo de la clase\n",
      "atributo de la clase\n",
      "atributo de la clase\n"
     ]
    }
   ],
   "source": [
    "class C:\n",
    "    \n",
    "    atributo_clase = 'atributo de la clase'\n",
    "    \n",
    "    def __init__(self):\n",
    "        atributo_instancia = 'atributo de la instancia'\n",
    "        \n",
    "c1 = C()\n",
    "c2 = C()\n",
    "c3 = C()\n",
    "\n",
    "print(c1.atributo_clase)\n",
    "print(c2.atributo_clase)\n",
    "print(c3.atributo_clase)"
   ]
  },
  {
   "cell_type": "markdown",
   "metadata": {},
   "source": [
    "Si queremos realizar un cambio en este atributo para todas las instancias, debemos hacerlo de la siguiente forma:"
   ]
  },
  {
   "cell_type": "code",
   "execution_count": 86,
   "metadata": {},
   "outputs": [
    {
     "name": "stdout",
     "output_type": "stream",
     "text": [
      "atributo de clase cambiado para todas las instancias\n",
      "atributo de clase cambiado para todas las instancias\n",
      "atributo de clase cambiado para todas las instancias\n"
     ]
    }
   ],
   "source": [
    "C.atributo_clase = \"atributo de clase cambiado para todas las instancias\"\n",
    "\n",
    "print(c1.atributo_clase)\n",
    "print(c2.atributo_clase)\n",
    "print(c3.atributo_clase)"
   ]
  },
  {
   "cell_type": "markdown",
   "metadata": {},
   "source": [
    "Notemos que para realizar el cambio para todas las instancis tuvimos que hacerlo de la forma: ``nombre_clase.atributo = nuevo_valor``, ya que si lo cambiamos accediendo desde una instancia en particular, solo se cambiará para ella y no para las demás:"
   ]
  },
  {
   "cell_type": "code",
   "execution_count": 87,
   "metadata": {},
   "outputs": [
    {
     "name": "stdout",
     "output_type": "stream",
     "text": [
      "atributo de clase cambiado para c1\n",
      "atributo de clase cambiado para todas las instancias\n",
      "atributo de clase cambiado para todas las instancias\n"
     ]
    }
   ],
   "source": [
    "c1.atributo_clase = \"atributo de clase cambiado para c1\"\n",
    "\n",
    "print(c1.atributo_clase)\n",
    "print(c2.atributo_clase)\n",
    "print(c3.atributo_clase)"
   ]
  }
 ],
 "metadata": {
  "kernelspec": {
   "display_name": "Python 3",
   "language": "python",
   "name": "python3"
  },
  "language_info": {
   "codemirror_mode": {
    "name": "ipython",
    "version": 3
   },
   "file_extension": ".py",
   "mimetype": "text/x-python",
   "name": "python",
   "nbconvert_exporter": "python",
   "pygments_lexer": "ipython3",
   "version": "3.8.4"
  }
 },
 "nbformat": 4,
 "nbformat_minor": 4
}
